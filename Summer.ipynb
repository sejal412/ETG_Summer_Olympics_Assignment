{
  "nbformat": 4,
  "nbformat_minor": 0,
  "metadata": {
    "kernelspec": {
      "name": "python3",
      "display_name": "Python 3"
    },
    "colab": {
      "name": "Summer.ipynb",
      "provenance": [],
      "collapsed_sections": []
    },
    "language_info": {
      "name": "python"
    },
    "accelerator": "GPU"
  },
  "cells": [
    {
      "cell_type": "markdown",
      "metadata": {
        "id": "MSkdGXnwzz2V"
      },
      "source": [
        "# Summer Olympics Data Analysis Assignment"
      ]
    },
    {
      "cell_type": "code",
      "metadata": {
        "id": "m7H8aFud2qsV"
      },
      "source": [
        "import pandas as pd\n",
        "import matplotlib"
      ],
      "execution_count": 1,
      "outputs": []
    },
    {
      "cell_type": "code",
      "metadata": {
        "id": "VZfwZYLK2uM_"
      },
      "source": [
        "df=pd.read_csv(\"summer.csv\")"
      ],
      "execution_count": 2,
      "outputs": []
    },
    {
      "cell_type": "code",
      "metadata": {
        "colab": {
          "base_uri": "https://localhost:8080/",
          "height": 417
        },
        "id": "EWRDkPTK3Btr",
        "outputId": "b197d40d-86ec-44c6-cab8-748b36e7c5a9"
      },
      "source": [
        "df"
      ],
      "execution_count": 3,
      "outputs": [
        {
          "output_type": "execute_result",
          "data": {
            "text/html": [
              "<div>\n",
              "<style scoped>\n",
              "    .dataframe tbody tr th:only-of-type {\n",
              "        vertical-align: middle;\n",
              "    }\n",
              "\n",
              "    .dataframe tbody tr th {\n",
              "        vertical-align: top;\n",
              "    }\n",
              "\n",
              "    .dataframe thead th {\n",
              "        text-align: right;\n",
              "    }\n",
              "</style>\n",
              "<table border=\"1\" class=\"dataframe\">\n",
              "  <thead>\n",
              "    <tr style=\"text-align: right;\">\n",
              "      <th></th>\n",
              "      <th>Year</th>\n",
              "      <th>City</th>\n",
              "      <th>Sport</th>\n",
              "      <th>Discipline</th>\n",
              "      <th>Athlete</th>\n",
              "      <th>Country</th>\n",
              "      <th>Gender</th>\n",
              "      <th>Event</th>\n",
              "      <th>Medal</th>\n",
              "    </tr>\n",
              "  </thead>\n",
              "  <tbody>\n",
              "    <tr>\n",
              "      <th>0</th>\n",
              "      <td>1896</td>\n",
              "      <td>Athens</td>\n",
              "      <td>Aquatics</td>\n",
              "      <td>Swimming</td>\n",
              "      <td>HAJOS, Alfred</td>\n",
              "      <td>HUN</td>\n",
              "      <td>Men</td>\n",
              "      <td>100M Freestyle</td>\n",
              "      <td>Gold</td>\n",
              "    </tr>\n",
              "    <tr>\n",
              "      <th>1</th>\n",
              "      <td>1896</td>\n",
              "      <td>Athens</td>\n",
              "      <td>Aquatics</td>\n",
              "      <td>Swimming</td>\n",
              "      <td>HERSCHMANN, Otto</td>\n",
              "      <td>AUT</td>\n",
              "      <td>Men</td>\n",
              "      <td>100M Freestyle</td>\n",
              "      <td>Silver</td>\n",
              "    </tr>\n",
              "    <tr>\n",
              "      <th>2</th>\n",
              "      <td>1896</td>\n",
              "      <td>Athens</td>\n",
              "      <td>Aquatics</td>\n",
              "      <td>Swimming</td>\n",
              "      <td>DRIVAS, Dimitrios</td>\n",
              "      <td>GRE</td>\n",
              "      <td>Men</td>\n",
              "      <td>100M Freestyle For Sailors</td>\n",
              "      <td>Bronze</td>\n",
              "    </tr>\n",
              "    <tr>\n",
              "      <th>3</th>\n",
              "      <td>1896</td>\n",
              "      <td>Athens</td>\n",
              "      <td>Aquatics</td>\n",
              "      <td>Swimming</td>\n",
              "      <td>MALOKINIS, Ioannis</td>\n",
              "      <td>GRE</td>\n",
              "      <td>Men</td>\n",
              "      <td>100M Freestyle For Sailors</td>\n",
              "      <td>Gold</td>\n",
              "    </tr>\n",
              "    <tr>\n",
              "      <th>4</th>\n",
              "      <td>1896</td>\n",
              "      <td>Athens</td>\n",
              "      <td>Aquatics</td>\n",
              "      <td>Swimming</td>\n",
              "      <td>CHASAPIS, Spiridon</td>\n",
              "      <td>GRE</td>\n",
              "      <td>Men</td>\n",
              "      <td>100M Freestyle For Sailors</td>\n",
              "      <td>Silver</td>\n",
              "    </tr>\n",
              "    <tr>\n",
              "      <th>...</th>\n",
              "      <td>...</td>\n",
              "      <td>...</td>\n",
              "      <td>...</td>\n",
              "      <td>...</td>\n",
              "      <td>...</td>\n",
              "      <td>...</td>\n",
              "      <td>...</td>\n",
              "      <td>...</td>\n",
              "      <td>...</td>\n",
              "    </tr>\n",
              "    <tr>\n",
              "      <th>31160</th>\n",
              "      <td>2012</td>\n",
              "      <td>London</td>\n",
              "      <td>Wrestling</td>\n",
              "      <td>Wrestling Freestyle</td>\n",
              "      <td>JANIKOWSKI, Damian</td>\n",
              "      <td>POL</td>\n",
              "      <td>Men</td>\n",
              "      <td>Wg 84 KG</td>\n",
              "      <td>Bronze</td>\n",
              "    </tr>\n",
              "    <tr>\n",
              "      <th>31161</th>\n",
              "      <td>2012</td>\n",
              "      <td>London</td>\n",
              "      <td>Wrestling</td>\n",
              "      <td>Wrestling Freestyle</td>\n",
              "      <td>REZAEI, Ghasem Gholamreza</td>\n",
              "      <td>IRI</td>\n",
              "      <td>Men</td>\n",
              "      <td>Wg 96 KG</td>\n",
              "      <td>Gold</td>\n",
              "    </tr>\n",
              "    <tr>\n",
              "      <th>31162</th>\n",
              "      <td>2012</td>\n",
              "      <td>London</td>\n",
              "      <td>Wrestling</td>\n",
              "      <td>Wrestling Freestyle</td>\n",
              "      <td>TOTROV, Rustam</td>\n",
              "      <td>RUS</td>\n",
              "      <td>Men</td>\n",
              "      <td>Wg 96 KG</td>\n",
              "      <td>Silver</td>\n",
              "    </tr>\n",
              "    <tr>\n",
              "      <th>31163</th>\n",
              "      <td>2012</td>\n",
              "      <td>London</td>\n",
              "      <td>Wrestling</td>\n",
              "      <td>Wrestling Freestyle</td>\n",
              "      <td>ALEKSANYAN, Artur</td>\n",
              "      <td>ARM</td>\n",
              "      <td>Men</td>\n",
              "      <td>Wg 96 KG</td>\n",
              "      <td>Bronze</td>\n",
              "    </tr>\n",
              "    <tr>\n",
              "      <th>31164</th>\n",
              "      <td>2012</td>\n",
              "      <td>London</td>\n",
              "      <td>Wrestling</td>\n",
              "      <td>Wrestling Freestyle</td>\n",
              "      <td>LIDBERG, Jimmy</td>\n",
              "      <td>SWE</td>\n",
              "      <td>Men</td>\n",
              "      <td>Wg 96 KG</td>\n",
              "      <td>Bronze</td>\n",
              "    </tr>\n",
              "  </tbody>\n",
              "</table>\n",
              "<p>31165 rows × 9 columns</p>\n",
              "</div>"
            ],
            "text/plain": [
              "       Year    City      Sport  ... Gender                       Event   Medal\n",
              "0      1896  Athens   Aquatics  ...    Men              100M Freestyle    Gold\n",
              "1      1896  Athens   Aquatics  ...    Men              100M Freestyle  Silver\n",
              "2      1896  Athens   Aquatics  ...    Men  100M Freestyle For Sailors  Bronze\n",
              "3      1896  Athens   Aquatics  ...    Men  100M Freestyle For Sailors    Gold\n",
              "4      1896  Athens   Aquatics  ...    Men  100M Freestyle For Sailors  Silver\n",
              "...     ...     ...        ...  ...    ...                         ...     ...\n",
              "31160  2012  London  Wrestling  ...    Men                    Wg 84 KG  Bronze\n",
              "31161  2012  London  Wrestling  ...    Men                    Wg 96 KG    Gold\n",
              "31162  2012  London  Wrestling  ...    Men                    Wg 96 KG  Silver\n",
              "31163  2012  London  Wrestling  ...    Men                    Wg 96 KG  Bronze\n",
              "31164  2012  London  Wrestling  ...    Men                    Wg 96 KG  Bronze\n",
              "\n",
              "[31165 rows x 9 columns]"
            ]
          },
          "metadata": {},
          "execution_count": 3
        }
      ]
    },
    {
      "cell_type": "code",
      "metadata": {
        "colab": {
          "base_uri": "https://localhost:8080/"
        },
        "id": "JEXfHMv_5ERm",
        "outputId": "8b345d95-d1c6-46be-af7c-1a8b4e360ec5"
      },
      "source": [
        "df.isnull().sum()"
      ],
      "execution_count": 4,
      "outputs": [
        {
          "output_type": "execute_result",
          "data": {
            "text/plain": [
              "Year          0\n",
              "City          0\n",
              "Sport         0\n",
              "Discipline    0\n",
              "Athlete       0\n",
              "Country       4\n",
              "Gender        0\n",
              "Event         0\n",
              "Medal         0\n",
              "dtype: int64"
            ]
          },
          "metadata": {},
          "execution_count": 4
        }
      ]
    },
    {
      "cell_type": "markdown",
      "metadata": {
        "id": "cDOz04W6zz2Y"
      },
      "source": [
        "### 1. In how many cities Summer Olympics is held so far?"
      ]
    },
    {
      "cell_type": "code",
      "metadata": {
        "colab": {
          "base_uri": "https://localhost:8080/"
        },
        "id": "PmA0zvuezz2Y",
        "outputId": "6149496b-2af3-4913-ecf3-5e0a26013255"
      },
      "source": [
        "df[\"City\"].unique()"
      ],
      "execution_count": 5,
      "outputs": [
        {
          "output_type": "execute_result",
          "data": {
            "text/plain": [
              "array(['Athens', 'Paris', 'St Louis', 'London', 'Stockholm', 'Antwerp',\n",
              "       'Amsterdam', 'Los Angeles', 'Berlin', 'Helsinki',\n",
              "       'Melbourne / Stockholm', 'Rome', 'Tokyo', 'Mexico', 'Munich',\n",
              "       'Montreal', 'Moscow', 'Seoul', 'Barcelona', 'Atlanta', 'Sydney',\n",
              "       'Beijing'], dtype=object)"
            ]
          },
          "metadata": {},
          "execution_count": 5
        }
      ]
    },
    {
      "cell_type": "code",
      "metadata": {
        "colab": {
          "base_uri": "https://localhost:8080/"
        },
        "id": "TxLO0leyB3pw",
        "outputId": "d9c3843b-7fc6-4ddc-ffd5-f7c6a75726ca"
      },
      "source": [
        "len(df[\"City\"].unique())"
      ],
      "execution_count": 6,
      "outputs": [
        {
          "output_type": "execute_result",
          "data": {
            "text/plain": [
              "22"
            ]
          },
          "metadata": {},
          "execution_count": 6
        }
      ]
    },
    {
      "cell_type": "code",
      "metadata": {
        "colab": {
          "base_uri": "https://localhost:8080/"
        },
        "id": "oY5iMMJJgXy0",
        "outputId": "0f7b5cd5-3b91-4d5e-ba60-0d4a8f1cd4fc"
      },
      "source": [
        "print(\"Summer Olympics are held in\",len(df[\"City\"].unique()),\"cities so far\")"
      ],
      "execution_count": 7,
      "outputs": [
        {
          "output_type": "stream",
          "name": "stdout",
          "text": [
            "Summer Olympics are held in 22 cities so far\n"
          ]
        }
      ]
    },
    {
      "cell_type": "markdown",
      "metadata": {
        "id": "OcLThyGSzz2Z"
      },
      "source": [
        "### 2. Which sport is having most number of Gold Medals so far? (Top 5)"
      ]
    },
    {
      "cell_type": "code",
      "metadata": {
        "colab": {
          "base_uri": "https://localhost:8080/"
        },
        "id": "vqLxBDgOzz2Z",
        "outputId": "2cfebc1e-0163-49a1-d2fe-0a3d317d9b1d"
      },
      "source": [
        "most_gold_medals=df.Sport[df.Medal == \"Gold\"].value_counts()\n",
        "most_gold_medals"
      ],
      "execution_count": 8,
      "outputs": [
        {
          "output_type": "execute_result",
          "data": {
            "text/plain": [
              "Aquatics             1421\n",
              "Athletics            1215\n",
              "Rowing                890\n",
              "Gymnastics            820\n",
              "Fencing               552\n",
              "Football              503\n",
              "Hockey                486\n",
              "Sailing               412\n",
              "Wrestling             391\n",
              "Shooting              384\n",
              "Cycling               371\n",
              "Basketball            342\n",
              "Canoe / Kayak         334\n",
              "Volleyball            332\n",
              "Handball              321\n",
              "Equestrian            320\n",
              "Boxing                239\n",
              "Weightlifting         200\n",
              "Archery               126\n",
              "Judo                  123\n",
              "Baseball              111\n",
              "Tennis                 92\n",
              "Rugby                  78\n",
              "Modern Pentathlon      60\n",
              "Softball               60\n",
              "Badminton              46\n",
              "Table Tennis           46\n",
              "Tug of War             36\n",
              "Taekwondo              32\n",
              "Lacrosse               28\n",
              "Canoe                  27\n",
              "Polo                   22\n",
              "Golf                   13\n",
              "Cricket                12\n",
              "Skating                 9\n",
              "Triathlon               8\n",
              "Ice Hockey              8\n",
              "Water Motorsports       5\n",
              "Croquet                 4\n",
              "Rackets                 3\n",
              "Basque Pelota           2\n",
              "Roque                   1\n",
              "Jeu de paume            1\n",
              "Name: Sport, dtype: int64"
            ]
          },
          "metadata": {},
          "execution_count": 8
        }
      ]
    },
    {
      "cell_type": "code",
      "metadata": {
        "colab": {
          "base_uri": "https://localhost:8080/"
        },
        "id": "35rk5oE6bQZW",
        "outputId": "96302803-9c17-4418-db8c-d5df57f34b6a"
      },
      "source": [
        "most_gold_medals.head()"
      ],
      "execution_count": 9,
      "outputs": [
        {
          "output_type": "execute_result",
          "data": {
            "text/plain": [
              "Aquatics      1421\n",
              "Athletics     1215\n",
              "Rowing         890\n",
              "Gymnastics     820\n",
              "Fencing        552\n",
              "Name: Sport, dtype: int64"
            ]
          },
          "metadata": {},
          "execution_count": 9
        }
      ]
    },
    {
      "cell_type": "code",
      "metadata": {
        "id": "tAlOGU0TcuMu"
      },
      "source": [
        "data=most_gold_medals.head()"
      ],
      "execution_count": 10,
      "outputs": []
    },
    {
      "cell_type": "code",
      "metadata": {
        "colab": {
          "base_uri": "https://localhost:8080/",
          "height": 331
        },
        "id": "YHFKPDrkH3Gn",
        "outputId": "4e88329b-b7ae-4237-be12-be56f53ecf2d"
      },
      "source": [
        "data.plot(x=\"Sport\",y=\"Medal\",kind=\"bar\")"
      ],
      "execution_count": 11,
      "outputs": [
        {
          "output_type": "execute_result",
          "data": {
            "text/plain": [
              "<matplotlib.axes._subplots.AxesSubplot at 0x7f5dfaec6210>"
            ]
          },
          "metadata": {},
          "execution_count": 11
        },
        {
          "output_type": "display_data",
          "data": {
            "image/png": "[encoded data removed]",
            "text/plain": [
              "<Figure size 432x288 with 1 Axes>"
            ]
          },
          "metadata": {
            "needs_background": "light"
          }
        }
      ]
    },
    {
      "cell_type": "markdown",
      "metadata": {
        "id": "gDwi3ZiIzz2Z"
      },
      "source": [
        "### 3. Which sport is having most number of medals so far? (Top 5)"
      ]
    },
    {
      "cell_type": "code",
      "metadata": {
        "colab": {
          "base_uri": "https://localhost:8080/"
        },
        "id": "fTbIM5uFI1HE",
        "outputId": "e2046187-dc58-48ab-b162-9ec29b54870b"
      },
      "source": [
        "most_medals=df.groupby(\"Sport\").count()[\"Medal\"].head().sort_values(ascending = False)\n",
        "most_medals"
      ],
      "execution_count": 12,
      "outputs": [
        {
          "output_type": "execute_result",
          "data": {
            "text/plain": [
              "Sport\n",
              "Aquatics     4170\n",
              "Athletics    3638\n",
              "Baseball      335\n",
              "Archery       329\n",
              "Badminton     144\n",
              "Name: Medal, dtype: int64"
            ]
          },
          "metadata": {},
          "execution_count": 12
        }
      ]
    },
    {
      "cell_type": "code",
      "metadata": {
        "colab": {
          "base_uri": "https://localhost:8080/",
          "height": 341
        },
        "id": "V-LktPPWiieQ",
        "outputId": "58068229-6698-4c37-e091-2933e71db4f5"
      },
      "source": [
        "most_medals.plot(x=\"Sport\",y=\"Medal\",kind=\"bar\",color=\"purple\")"
      ],
      "execution_count": 13,
      "outputs": [
        {
          "output_type": "execute_result",
          "data": {
            "text/plain": [
              "<matplotlib.axes._subplots.AxesSubplot at 0x7f5df4afbe90>"
            ]
          },
          "metadata": {},
          "execution_count": 13
        },
        {
          "output_type": "display_data",
          "data": {
            "image/png": "[encoded data removed]",
            "text/plain": [
              "<Figure size 432x288 with 1 Axes>"
            ]
          },
          "metadata": {
            "needs_background": "light"
          }
        }
      ]
    },
    {
      "cell_type": "markdown",
      "metadata": {
        "id": "S-CRnVz4zz2a"
      },
      "source": [
        "### 4. Which player has won most number of medals? (Top 5)"
      ]
    },
    {
      "cell_type": "code",
      "metadata": {
        "colab": {
          "base_uri": "https://localhost:8080/"
        },
        "id": "mq6sB8UKI9sM",
        "outputId": "d61f0e46-fd42-4280-dd71-0a4c3152253a"
      },
      "source": [
        "player_most_medals=df.groupby(\"Athlete\").count()[\"Medal\"].sort_values(ascending = False).head()\n",
        "player_most_medals"
      ],
      "execution_count": 14,
      "outputs": [
        {
          "output_type": "execute_result",
          "data": {
            "text/plain": [
              "Athlete\n",
              "PHELPS, Michael         22\n",
              "LATYNINA, Larisa        18\n",
              "ANDRIANOV, Nikolay      15\n",
              "MANGIAROTTI, Edoardo    13\n",
              "SHAKHLIN, Boris         13\n",
              "Name: Medal, dtype: int64"
            ]
          },
          "metadata": {},
          "execution_count": 14
        }
      ]
    },
    {
      "cell_type": "code",
      "metadata": {
        "colab": {
          "base_uri": "https://localhost:8080/",
          "height": 404
        },
        "id": "FB_n1WLgqqxx",
        "outputId": "c245ab38-ae78-43e8-993b-1842911e837f"
      },
      "source": [
        "player_most_medals.plot.bar(color=\"maroon\")"
      ],
      "execution_count": 15,
      "outputs": [
        {
          "output_type": "execute_result",
          "data": {
            "text/plain": [
              "<matplotlib.axes._subplots.AxesSubplot at 0x7f5df462fc50>"
            ]
          },
          "metadata": {},
          "execution_count": 15
        },
        {
          "output_type": "display_data",
          "data": {
            "image/png": "[encoded data removed]",
            "text/plain": [
              "<Figure size 432x288 with 1 Axes>"
            ]
          },
          "metadata": {
            "needs_background": "light"
          }
        }
      ]
    },
    {
      "cell_type": "markdown",
      "metadata": {
        "id": "G7Nbpf-Pzz2a"
      },
      "source": [
        "### 5. Which player has won most number Gold Medals of medals? (Top 5)"
      ]
    },
    {
      "cell_type": "code",
      "metadata": {
        "colab": {
          "base_uri": "https://localhost:8080/"
        },
        "id": "R5M_2jawzz2a",
        "outputId": "21d2fad2-b521-499e-85e0-63f01b9e432d"
      },
      "source": [
        "Player_most_gold=df.Athlete[df.Medal == \"Gold\"].value_counts()\n",
        "Player_most_gold"
      ],
      "execution_count": 16,
      "outputs": [
        {
          "output_type": "execute_result",
          "data": {
            "text/plain": [
              "PHELPS, Michael        18\n",
              "SPITZ, Mark             9\n",
              "NURMI, Paavo            9\n",
              "LEWIS, Carl             9\n",
              "LATYNINA, Larisa        9\n",
              "                       ..\n",
              "EMOTO, Naho             1\n",
              "CHANCE, Britton Jr.     1\n",
              "BASTIEN, Louis          1\n",
              "WOODRUFF, Laura         1\n",
              "OGAN, Ismail            1\n",
              "Name: Athlete, Length: 8287, dtype: int64"
            ]
          },
          "metadata": {},
          "execution_count": 16
        }
      ]
    },
    {
      "cell_type": "code",
      "metadata": {
        "colab": {
          "base_uri": "https://localhost:8080/"
        },
        "id": "wxeVSWnKi8V1",
        "outputId": "2d5f3b3a-10fe-40e1-a12b-ddd7a3c77e94"
      },
      "source": [
        "data1=Player_most_gold.head()\n",
        "data1"
      ],
      "execution_count": 17,
      "outputs": [
        {
          "output_type": "execute_result",
          "data": {
            "text/plain": [
              "PHELPS, Michael     18\n",
              "SPITZ, Mark          9\n",
              "NURMI, Paavo         9\n",
              "LEWIS, Carl          9\n",
              "LATYNINA, Larisa     9\n",
              "Name: Athlete, dtype: int64"
            ]
          },
          "metadata": {},
          "execution_count": 17
        }
      ]
    },
    {
      "cell_type": "code",
      "metadata": {
        "colab": {
          "base_uri": "https://localhost:8080/",
          "height": 357
        },
        "id": "8M0Kmq9LjCMl",
        "outputId": "7c8fd509-b100-4d48-f097-630f972109a7"
      },
      "source": [
        "data1.plot(x=\"Player\",y=\"Medal\",kind=\"bar\",color=\"blue\")"
      ],
      "execution_count": 18,
      "outputs": [
        {
          "output_type": "execute_result",
          "data": {
            "text/plain": [
              "<matplotlib.axes._subplots.AxesSubplot at 0x7f5dfaec6cd0>"
            ]
          },
          "metadata": {},
          "execution_count": 18
        },
        {
          "output_type": "display_data",
          "data": {
            "image/png": "[encoded data removed]",
            "text/plain": [
              "<Figure size 432x288 with 1 Axes>"
            ]
          },
          "metadata": {
            "needs_background": "light"
          }
        }
      ]
    },
    {
      "cell_type": "markdown",
      "metadata": {
        "id": "ckKSdKEBzz2b"
      },
      "source": [
        "### 6. In which year India won first Gold Medal in Summer Olympics?"
      ]
    },
    {
      "cell_type": "code",
      "metadata": {
        "id": "3XUxQ46IJlUm"
      },
      "source": [
        "df_gold=df[df['Medal']=='Gold']"
      ],
      "execution_count": 19,
      "outputs": []
    },
    {
      "cell_type": "code",
      "metadata": {
        "id": "hHG_5gkWzz2b"
      },
      "source": [
        "year_asc=df_gold.sort_values(['Year'],ascending=True)"
      ],
      "execution_count": 20,
      "outputs": []
    },
    {
      "cell_type": "code",
      "metadata": {
        "id": "0PS9-xff3nty"
      },
      "source": [
        "india_first_gold=year_asc[year_asc['Country']=='IND'].iloc[0]"
      ],
      "execution_count": 21,
      "outputs": []
    },
    {
      "cell_type": "code",
      "metadata": {
        "colab": {
          "base_uri": "https://localhost:8080/"
        },
        "id": "IcjRxI4a3vJc",
        "outputId": "850ccef4-ee0d-4213-f682-fc4cf7650523"
      },
      "source": [
        "print(\"The year India won its first Gold Medal in Summer Olympics is \",india_first_gold['Year'])"
      ],
      "execution_count": 22,
      "outputs": [
        {
          "output_type": "stream",
          "name": "stdout",
          "text": [
            "The year India won its first Gold Medal in Summer Olympics is  1928\n"
          ]
        }
      ]
    },
    {
      "cell_type": "markdown",
      "metadata": {
        "id": "c7oeccX1zz2b"
      },
      "source": [
        "### 7. Which event is most popular in terms on number of players? (Top 5)"
      ]
    },
    {
      "cell_type": "code",
      "metadata": {
        "id": "t3yPIKirzz2b"
      },
      "source": [
        "most_popular_events=df[(df.Event != 0) & (df.Athlete != 0 )][['Event','Athlete']]\n",
        "most_popular_events=most_popular_events.groupby('Event').count().reset_index()"
      ],
      "execution_count": 23,
      "outputs": []
    },
    {
      "cell_type": "code",
      "metadata": {
        "colab": {
          "base_uri": "https://localhost:8080/",
          "height": 359
        },
        "id": "36EpUO95MTAV",
        "outputId": "d7436622-fcf3-4822-e249-6316ca0e0e42"
      },
      "source": [
        "most_popular_events=most_popular_events.sort_values(by='Athlete',ascending=False).head().plot(x='Event',y='Athlete',kind='bar',color=\"green\")"
      ],
      "execution_count": 24,
      "outputs": [
        {
          "output_type": "display_data",
          "data": {
            "image/png": "[encoded data removed]",
            "text/plain": [
              "<Figure size 432x288 with 1 Axes>"
            ]
          },
          "metadata": {
            "needs_background": "light"
          }
        }
      ]
    },
    {
      "cell_type": "markdown",
      "metadata": {
        "id": "m1B06RWPzz2b"
      },
      "source": [
        "### 8. Which sport is having most female Gold Medalists? (Top 5)"
      ]
    },
    {
      "cell_type": "code",
      "metadata": {
        "id": "dLMWVIh2Q4Ni"
      },
      "source": [
        "Player_gold_female=df_gold[df_gold['Gender']=='Women']"
      ],
      "execution_count": 25,
      "outputs": []
    },
    {
      "cell_type": "code",
      "metadata": {
        "colab": {
          "base_uri": "https://localhost:8080/",
          "height": 417
        },
        "id": "Xv8AE25Qzz2c",
        "outputId": "15992446-3543-4e84-eaca-254da9c4edf6"
      },
      "source": [
        "Player_gold_female"
      ],
      "execution_count": 26,
      "outputs": [
        {
          "output_type": "execute_result",
          "data": {
            "text/html": [
              "<div>\n",
              "<style scoped>\n",
              "    .dataframe tbody tr th:only-of-type {\n",
              "        vertical-align: middle;\n",
              "    }\n",
              "\n",
              "    .dataframe tbody tr th {\n",
              "        vertical-align: top;\n",
              "    }\n",
              "\n",
              "    .dataframe thead th {\n",
              "        text-align: right;\n",
              "    }\n",
              "</style>\n",
              "<table border=\"1\" class=\"dataframe\">\n",
              "  <thead>\n",
              "    <tr style=\"text-align: right;\">\n",
              "      <th></th>\n",
              "      <th>Year</th>\n",
              "      <th>City</th>\n",
              "      <th>Sport</th>\n",
              "      <th>Discipline</th>\n",
              "      <th>Athlete</th>\n",
              "      <th>Country</th>\n",
              "      <th>Gender</th>\n",
              "      <th>Event</th>\n",
              "      <th>Medal</th>\n",
              "    </tr>\n",
              "  </thead>\n",
              "  <tbody>\n",
              "    <tr>\n",
              "      <th>417</th>\n",
              "      <td>1900</td>\n",
              "      <td>Paris</td>\n",
              "      <td>Golf</td>\n",
              "      <td>Golf</td>\n",
              "      <td>ABBOTT, Margaret Ives</td>\n",
              "      <td>USA</td>\n",
              "      <td>Women</td>\n",
              "      <td>Individual</td>\n",
              "      <td>Gold</td>\n",
              "    </tr>\n",
              "    <tr>\n",
              "      <th>641</th>\n",
              "      <td>1900</td>\n",
              "      <td>Paris</td>\n",
              "      <td>Tennis</td>\n",
              "      <td>Tennis</td>\n",
              "      <td>COOPER, Charlotte</td>\n",
              "      <td>GBR</td>\n",
              "      <td>Women</td>\n",
              "      <td>Mixed Doubles</td>\n",
              "      <td>Gold</td>\n",
              "    </tr>\n",
              "    <tr>\n",
              "      <th>649</th>\n",
              "      <td>1900</td>\n",
              "      <td>Paris</td>\n",
              "      <td>Tennis</td>\n",
              "      <td>Tennis</td>\n",
              "      <td>COOPER, Charlotte</td>\n",
              "      <td>GBR</td>\n",
              "      <td>Women</td>\n",
              "      <td>Singles</td>\n",
              "      <td>Gold</td>\n",
              "    </tr>\n",
              "    <tr>\n",
              "      <th>710</th>\n",
              "      <td>1904</td>\n",
              "      <td>St Louis</td>\n",
              "      <td>Archery</td>\n",
              "      <td>Archery</td>\n",
              "      <td>HOWELL, Matilda Scott</td>\n",
              "      <td>USA</td>\n",
              "      <td>Women</td>\n",
              "      <td>Double Columbia Round (50Y - 40Y - 30Y)</td>\n",
              "      <td>Gold</td>\n",
              "    </tr>\n",
              "    <tr>\n",
              "      <th>713</th>\n",
              "      <td>1904</td>\n",
              "      <td>St Louis</td>\n",
              "      <td>Archery</td>\n",
              "      <td>Archery</td>\n",
              "      <td>HOWELL, Matilda Scott</td>\n",
              "      <td>USA</td>\n",
              "      <td>Women</td>\n",
              "      <td>Double National Round (60Y - 50Y)</td>\n",
              "      <td>Gold</td>\n",
              "    </tr>\n",
              "    <tr>\n",
              "      <th>...</th>\n",
              "      <td>...</td>\n",
              "      <td>...</td>\n",
              "      <td>...</td>\n",
              "      <td>...</td>\n",
              "      <td>...</td>\n",
              "      <td>...</td>\n",
              "      <td>...</td>\n",
              "      <td>...</td>\n",
              "      <td>...</td>\n",
              "    </tr>\n",
              "    <tr>\n",
              "      <th>31081</th>\n",
              "      <td>2012</td>\n",
              "      <td>London</td>\n",
              "      <td>Weightlifting</td>\n",
              "      <td>Weightlifting</td>\n",
              "      <td>VALENTIN PEREZ, Lidia</td>\n",
              "      <td>ESP</td>\n",
              "      <td>Women</td>\n",
              "      <td>75KG</td>\n",
              "      <td>Gold</td>\n",
              "    </tr>\n",
              "    <tr>\n",
              "      <th>31097</th>\n",
              "      <td>2012</td>\n",
              "      <td>London</td>\n",
              "      <td>Wrestling</td>\n",
              "      <td>Wrestling Freestyle</td>\n",
              "      <td>OBARA, Hitomi</td>\n",
              "      <td>JPN</td>\n",
              "      <td>Women</td>\n",
              "      <td>Wf 48 KG</td>\n",
              "      <td>Gold</td>\n",
              "    </tr>\n",
              "    <tr>\n",
              "      <th>31105</th>\n",
              "      <td>2012</td>\n",
              "      <td>London</td>\n",
              "      <td>Wrestling</td>\n",
              "      <td>Wrestling Freestyle</td>\n",
              "      <td>YOSHIDA, Saori</td>\n",
              "      <td>JPN</td>\n",
              "      <td>Women</td>\n",
              "      <td>Wf 55 KG</td>\n",
              "      <td>Gold</td>\n",
              "    </tr>\n",
              "    <tr>\n",
              "      <th>31113</th>\n",
              "      <td>2012</td>\n",
              "      <td>London</td>\n",
              "      <td>Wrestling</td>\n",
              "      <td>Wrestling Freestyle</td>\n",
              "      <td>ICHO, Kaori</td>\n",
              "      <td>JPN</td>\n",
              "      <td>Women</td>\n",
              "      <td>Wf 63 KG</td>\n",
              "      <td>Gold</td>\n",
              "    </tr>\n",
              "    <tr>\n",
              "      <th>31121</th>\n",
              "      <td>2012</td>\n",
              "      <td>London</td>\n",
              "      <td>Wrestling</td>\n",
              "      <td>Wrestling Freestyle</td>\n",
              "      <td>VOROBIEVA, Natalia</td>\n",
              "      <td>RUS</td>\n",
              "      <td>Women</td>\n",
              "      <td>Wf 72 KG</td>\n",
              "      <td>Gold</td>\n",
              "    </tr>\n",
              "  </tbody>\n",
              "</table>\n",
              "<p>2788 rows × 9 columns</p>\n",
              "</div>"
            ],
            "text/plain": [
              "       Year      City  ...                                    Event Medal\n",
              "417    1900     Paris  ...                               Individual  Gold\n",
              "641    1900     Paris  ...                            Mixed Doubles  Gold\n",
              "649    1900     Paris  ...                                  Singles  Gold\n",
              "710    1904  St Louis  ...  Double Columbia Round (50Y - 40Y - 30Y)  Gold\n",
              "713    1904  St Louis  ...        Double National Round (60Y - 50Y)  Gold\n",
              "...     ...       ...  ...                                      ...   ...\n",
              "31081  2012    London  ...                                     75KG  Gold\n",
              "31097  2012    London  ...                                 Wf 48 KG  Gold\n",
              "31105  2012    London  ...                                 Wf 55 KG  Gold\n",
              "31113  2012    London  ...                                 Wf 63 KG  Gold\n",
              "31121  2012    London  ...                                 Wf 72 KG  Gold\n",
              "\n",
              "[2788 rows x 9 columns]"
            ]
          },
          "metadata": {},
          "execution_count": 26
        }
      ]
    },
    {
      "cell_type": "code",
      "metadata": {
        "colab": {
          "base_uri": "https://localhost:8080/",
          "height": 328
        },
        "id": "m9fnCZj7Uz1H",
        "outputId": "5bcc036a-f7d8-4c14-e15c-eacff0307f15"
      },
      "source": [
        "data2=Player_gold_female.groupby(\"Sport\").count()[\"Gender\"].sort_values(ascending = False).head().plot.bar(x=\"Athlete\",y=\"Medal\",color=\"orange\")"
      ],
      "execution_count": 27,
      "outputs": [
        {
          "output_type": "display_data",
          "data": {
            "image/png": "[encoded data removed]",
            "text/plain": [
              "<Figure size 432x288 with 1 Axes>"
            ]
          },
          "metadata": {
            "needs_background": "light"
          }
        }
      ]
    }
  ]
}